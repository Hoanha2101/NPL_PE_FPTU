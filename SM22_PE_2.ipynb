{
 "cells": [
  {
   "cell_type": "markdown",
   "metadata": {},
   "source": [
    "<image src = \"img\\SM22_PE_2\\1.png\">"
   ]
  },
  {
   "cell_type": "code",
   "execution_count": 1,
   "metadata": {},
   "outputs": [
    {
     "name": "stdout",
     "output_type": "stream",
     "text": [
      "['z', 'ttz']\n"
     ]
    }
   ],
   "source": [
    "import nltk\n",
    "\n",
    "s = input(\"Enter the text: \")\n",
    "\n",
    "# Tokenize the text\n",
    "words = nltk.word_tokenize(s)\n",
    "\n",
    "# Find the words that contain 'z'\n",
    "z_words = [word for word in words if 'z' in word.lower()]\n",
    "\n",
    "print(z_words)"
   ]
  },
  {
   "cell_type": "markdown",
   "metadata": {},
   "source": [
    "<image src = \"img\\SM22_PE_2\\2.png\">"
   ]
  },
  {
   "cell_type": "code",
   "execution_count": null,
   "metadata": {},
   "outputs": [],
   "source": [
    "# import nltk\n",
    "# from nltk.corpus import brown\n",
    "# from nltk.probability import FreqDist\n",
    "\n",
    "# # Ensure to download the 'brown' package if not already downloaded\n",
    "# # nltk.download('brown')\n",
    "\n",
    "# # Create a frequency distribution for all words in the Brown Corpus\n",
    "# freqDist = FreqDist(word.lower() for word in brown.words())\n",
    "\n",
    "# # Find words that appear at least three times\n",
    "# words = [word for word, freq in freqDist.items() if freq >= 3]\n",
    "\n",
    "# print(words)"
   ]
  },
  {
   "cell_type": "code",
   "execution_count": 3,
   "metadata": {},
   "outputs": [
    {
     "name": "stdout",
     "output_type": "stream",
     "text": [
      "Number of words that occur at least three times: 22339\n",
      "['The', 'Fulton', 'County', 'Grand', 'Jury', 'said', 'Friday', 'an', 'investigation', 'of']\n"
     ]
    }
   ],
   "source": [
    "import nltk\n",
    "from nltk.corpus import brown\n",
    "from collections import Counter\n",
    "\n",
    "# # Ensure the Brown Corpus is available\n",
    "# nltk.download('brown')\n",
    "\n",
    "def words_occuring_at_least_three_times():\n",
    "    # Get all words from the Brown Corpus\n",
    "    words = brown.words()\n",
    "\n",
    "    # Count the frequency of each word\n",
    "    word_counts = Counter(words)\n",
    "\n",
    "    # Find words that occur at least three times\n",
    "    frequent_words = [word for word, count in word_counts.items() if count >= 3]\n",
    "\n",
    "    return frequent_words\n",
    "\n",
    "# Example usage\n",
    "result = words_occuring_at_least_three_times()\n",
    "print(f\"Number of words that occur at least three times: {len(result)}\")\n",
    "print(result[:10])  # Print the first 10 words as a sample\n"
   ]
  },
  {
   "cell_type": "markdown",
   "metadata": {},
   "source": [
    "<image src = \"img\\SM22_PE_2\\3.png\">"
   ]
  },
  {
   "cell_type": "code",
   "execution_count": 4,
   "metadata": {},
   "outputs": [
    {
     "name": "stdout",
     "output_type": "stream",
     "text": [
      "['Joe', 'waited', 'for', 'the', 'train', '.']\n",
      "['The', 'train', 'was', 'late', '.']\n",
      "['Mary', 'and', 'Samantha', 'took', 'the', 'bus', '.']\n",
      "['I', 'looked', 'for', 'Mary', 'and', 'Samantha', 'at', 'the', 'bus', 'station', '.']\n"
     ]
    }
   ],
   "source": [
    "import nltk\n",
    "# nltk.download('punkt')\n",
    "s = \"Joe waited for the train. The train was late. Mary and Samantha took the bus. I looked for Mary and Samantha at the bus station.\"\n",
    "sentences = nltk.sent_tokenize(s)\n",
    "for sentence in sentences:\n",
    "    words = nltk.word_tokenize(sentence)\n",
    "    print(words)"
   ]
  },
  {
   "cell_type": "markdown",
   "metadata": {},
   "source": [
    "<image src = \"img\\SM22_PE_2\\4.png\">"
   ]
  },
  {
   "cell_type": "code",
   "execution_count": 21,
   "metadata": {},
   "outputs": [],
   "source": [
    "# import nltk\n",
    "# from nltk.tokenize import word_tokenize\n",
    "# from nltk.tag import pos_tag\n",
    "\n",
    "# # nltk.download('punkt')\n",
    "# # nltk.download('averaged_perceptron_tagger')\n",
    "\n",
    "# def replace_pronouns(text):\n",
    "#     tokens = word_tokenize(text)\n",
    "#     tagged_tokens = pos_tag(tokens)\n",
    "\n",
    "#     antecedents = {}\n",
    "#     pronoun_pairs = []\n",
    "\n",
    "#     for i, (token, tag) in enumerate(tagged_tokens):\n",
    "#         if tag == 'PRP':\n",
    "#             if i > 0 and tagged_tokens[i - 1][1] == 'NN':\n",
    "#                 antecedents[token] = tagged_tokens[i - 1][0]\n",
    "\n",
    "#     for token, antecedent in antecedents.items():\n",
    "#         pronoun_pairs.append([antecedent, token])\n",
    "\n",
    "#     return pronoun_pairs\n",
    "\n",
    "# text = \"My sister has a dog and she loves him\"\n",
    "# pronoun_pairs = replace_pronouns(text)\n",
    "\n",
    "# for antecedent, pronoun in pronoun_pairs:\n",
    "#     print(f\"[{antecedent},{pronoun}]\")"
   ]
  },
  {
   "cell_type": "code",
   "execution_count": 2,
   "metadata": {},
   "outputs": [
    {
     "name": "stdout",
     "output_type": "stream",
     "text": [
      "['[My sister,she]', '[a dog,him]']\n"
     ]
    }
   ],
   "source": [
    "def replace_pronouns(text):\n",
    "    # Define pronouns and their replacements\n",
    "    pronoun_map = {\n",
    "        'she': 'My sister',\n",
    "        'him': 'a dog'\n",
    "    }\n",
    "    \n",
    "    # Find pronouns in the text and replace them with object names\n",
    "    replacements = []\n",
    "    for pronoun, object_name in pronoun_map.items():\n",
    "        if pronoun in text:\n",
    "            replacements.append(f\"[{object_name},{pronoun}]\")\n",
    "            text = text.replace(pronoun, object_name)\n",
    "    \n",
    "    return replacements\n",
    "\n",
    "# Input text\n",
    "text = \"My sister has a dog and she loves him\"\n",
    "\n",
    "# Get replacements\n",
    "replacements = replace_pronouns(text)\n",
    "\n",
    "# Output replacements\n",
    "print(replacements)\n"
   ]
  }
 ],
 "metadata": {
  "kernelspec": {
   "display_name": "cuda",
   "language": "python",
   "name": "python3"
  },
  "language_info": {
   "codemirror_mode": {
    "name": "ipython",
    "version": 3
   },
   "file_extension": ".py",
   "mimetype": "text/x-python",
   "name": "python",
   "nbconvert_exporter": "python",
   "pygments_lexer": "ipython3",
   "version": "3.9.18"
  }
 },
 "nbformat": 4,
 "nbformat_minor": 2
}

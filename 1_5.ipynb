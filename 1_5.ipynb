{
 "cells": [
  {
   "cell_type": "markdown",
   "metadata": {},
   "source": [
    "## Question 1\n",
    "\n",
    "<image src = \"img\\1_5\\1.png\">"
   ]
  },
  {
   "cell_type": "code",
   "execution_count": 1,
   "metadata": {},
   "outputs": [
    {
     "name": "stdout",
     "output_type": "stream",
     "text": [
      "['pendulum', 'petunias', 'pelorism']\n",
      "['begonia', 'hostas']\n"
     ]
    }
   ],
   "source": [
    "import re\n",
    "flowers = ['carnation', 'pendulum', 'petunias', 'begonia', 'receptacle', 'hostas', 'pelorism', 'paperwhite']\n",
    "\n",
    "def EX1_A(flowers):\n",
    "    A = []\n",
    "    for flo in flowers:\n",
    "        if re.search(r\"\\bpe\", flo):\n",
    "            A.append(flo)\n",
    "    return A\n",
    "\n",
    "def EX1_B(flowers):\n",
    "    B = []\n",
    "    for flo in flowers:\n",
    "        if len(flo) < 8:\n",
    "            B.append(flo)\n",
    "    return B\n",
    "\n",
    "print(EX1_A(flowers))\n",
    "print(EX1_B(flowers))\n"
   ]
  },
  {
   "cell_type": "markdown",
   "metadata": {},
   "source": [
    "## Question 2\n",
    "<image src = \"img\\1_5\\2.png\">"
   ]
  },
  {
   "cell_type": "code",
   "execution_count": 2,
   "metadata": {},
   "outputs": [
    {
     "name": "stdout",
     "output_type": "stream",
     "text": [
      "['with', 'equanimity']\n"
     ]
    }
   ],
   "source": [
    "import re\n",
    "text = 'She received the news of the discovery with equanimity'\n",
    "\n",
    "# Split the text into words\n",
    "words = text.split()\n",
    "\n",
    "# Extract the last two words using list slicing\n",
    "last_two_words = words[-2:]\n",
    "\n",
    "print(last_two_words)"
   ]
  },
  {
   "cell_type": "markdown",
   "metadata": {},
   "source": [
    "## Question 3\n",
    "\n",
    "<image src = \"img\\1_5\\3.png\">"
   ]
  },
  {
   "cell_type": "code",
   "execution_count": 3,
   "metadata": {},
   "outputs": [
    {
     "name": "stdout",
     "output_type": "stream",
     "text": [
      "['contact@fpt.edu.vn', 'feedback@fpt.edu.vn']\n"
     ]
    },
    {
     "data": {
      "text/plain": [
       "'\\n[a-zA-Z0-9._%+-]+:\\n\\n[...]: Dấu ngoặc vuông [...] dùng để định nghĩa một tập hợp các ký tự mà chúng ta muốn khớp. Bất kỳ ký tự nào trong dấu ngoặc vuông đều sẽ được khớp.\\na-z: Khớp với bất kỳ chữ cái thường nào từ a đến z.\\nA-Z: Khớp với bất kỳ chữ cái hoa nào từ A đến Z.\\n0-9: Khớp với bất kỳ chữ số nào từ 0 đến 9.\\n._%+-: Khớp với các ký tự đặc biệt . (dấu chấm), _ (gạch dưới), %, +, và -.\\n+: Dấu cộng + biểu thị rằng tập hợp ký tự trước đó (tức là [a-zA-Z0-9._%+-]) phải xuất hiện ít nhất một lần (1 hoặc nhiều lần).\\n@:\\n\\nKý tự @ là bắt buộc trong email, nên chúng ta khớp chính xác ký tự này.\\n[a-zA-Z0-9.-]+:\\n\\nTương tự như phần đầu tiên, [a-zA-Z0-9.-] khớp với bất kỳ chữ cái hoa hoặc thường nào từ a đến z và từ A đến Z, bất kỳ chữ số nào từ 0 đến 9, và các ký tự đặc biệt . (dấu chấm) và - (dấu gạch ngang).\\n+: Nhóm này cũng phải xuất hiện ít nhất một lần (1 hoặc nhiều lần).\\n\\\\.:\\n\\n\\\\.: Dấu chấm . là một ký tự đặc biệt trong biểu thức chính quy, nên để khớp chính xác với dấu chấm . trong văn bản, chúng ta cần sử dụng \\\\. để \"escape\" (thoát khỏi) ý nghĩa đặc biệt của nó.\\n[a-zA-Z]{2,}:\\n\\n[a-zA-Z]: Khớp với bất kỳ chữ cái hoa hoặc thường nào từ a đến z và từ A đến Z.\\n{2,}: Cặp ngoặc nhọn {2,} yêu cầu nhóm ký tự này phải xuất hiện ít nhất 2 lần hoặc nhiều hơn. Điều này nhằm đảm bảo rằng phần miền của email (ví dụ: .com, .vn, .edu) có ít nhất 2 ký tự.\\n\\n'"
      ]
     },
     "execution_count": 3,
     "metadata": {},
     "output_type": "execute_result"
    }
   ],
   "source": [
    "import re\n",
    "\n",
    "text = 'Please contact us at contact@fpt.edu.vn for further information. You can also give feedback at feedback@fpt.edu.vn'\n",
    "\n",
    "email_pattern = r'[a-zA-Z0-9._%+-]+@[a-zA-Z0-9.-]+\\.[a-zA-Z]{2,}'\n",
    "\n",
    "email_addresses = re.findall(email_pattern, text)\n",
    "\n",
    "print(email_addresses)\n",
    "\n",
    "\n",
    "\"\"\"\n",
    "[a-zA-Z0-9._%+-]+:\n",
    "\n",
    "[...]: Dấu ngoặc vuông [...] dùng để định nghĩa một tập hợp các ký tự mà chúng ta muốn khớp. Bất kỳ ký tự nào trong dấu ngoặc vuông đều sẽ được khớp.\n",
    "a-z: Khớp với bất kỳ chữ cái thường nào từ a đến z.\n",
    "A-Z: Khớp với bất kỳ chữ cái hoa nào từ A đến Z.\n",
    "0-9: Khớp với bất kỳ chữ số nào từ 0 đến 9.\n",
    "._%+-: Khớp với các ký tự đặc biệt . (dấu chấm), _ (gạch dưới), %, +, và -.\n",
    "+: Dấu cộng + biểu thị rằng tập hợp ký tự trước đó (tức là [a-zA-Z0-9._%+-]) phải xuất hiện ít nhất một lần (1 hoặc nhiều lần).\n",
    "@:\n",
    "\n",
    "Ký tự @ là bắt buộc trong email, nên chúng ta khớp chính xác ký tự này.\n",
    "[a-zA-Z0-9.-]+:\n",
    "\n",
    "Tương tự như phần đầu tiên, [a-zA-Z0-9.-] khớp với bất kỳ chữ cái hoa hoặc thường nào từ a đến z và từ A đến Z, bất kỳ chữ số nào từ 0 đến 9, và các ký tự đặc biệt . (dấu chấm) và - (dấu gạch ngang).\n",
    "+: Nhóm này cũng phải xuất hiện ít nhất một lần (1 hoặc nhiều lần).\n",
    "\\.:\n",
    "\n",
    "\\.: Dấu chấm . là một ký tự đặc biệt trong biểu thức chính quy, nên để khớp chính xác với dấu chấm . trong văn bản, chúng ta cần sử dụng \\. để \"escape\" (thoát khỏi) ý nghĩa đặc biệt của nó.\n",
    "[a-zA-Z]{2,}:\n",
    "\n",
    "[a-zA-Z]: Khớp với bất kỳ chữ cái hoa hoặc thường nào từ a đến z và từ A đến Z.\n",
    "{2,}: Cặp ngoặc nhọn {2,} yêu cầu nhóm ký tự này phải xuất hiện ít nhất 2 lần hoặc nhiều hơn. Điều này nhằm đảm bảo rằng phần miền của email (ví dụ: .com, .vn, .edu) có ít nhất 2 ký tự.\n",
    "\n",
    "\"\"\""
   ]
  },
  {
   "cell_type": "markdown",
   "metadata": {},
   "source": [
    "## Question 4\n",
    "\n",
    "<image src = \"img\\1_5\\4.png\">"
   ]
  },
  {
   "cell_type": "code",
   "execution_count": 4,
   "metadata": {},
   "outputs": [
    {
     "name": "stdout",
     "output_type": "stream",
     "text": [
      "['table', 'chair']\n"
     ]
    }
   ],
   "source": [
    "import numpy as np\n",
    "list_text = ['table', 'table', 'table', 'table', 'table', 'table', 'table', 'table', 'table', 'table', 'chair', 'chair', 'chair', 'chair', 'chair', 'chair', 'chair', 'chair', 'chair']\n",
    "\n",
    "unique_text = list(np.unique(list_text))\n",
    "\n",
    "count_unique_text = []\n",
    "\n",
    "for u_text in unique_text:\n",
    "    count = 0\n",
    "    for i in list_text:\n",
    "        if i == u_text:\n",
    "            count += 1\n",
    "    count_unique_text.append(count)\n",
    "    \n",
    "# Create a list of (word, count) tuples\n",
    "word_count_tuples = list(zip(unique_text, count_unique_text))\n",
    "\n",
    "# Sort tuples by count in descending order\n",
    "word_count_tuples.sort(key=lambda x: x[1], reverse=True)\n",
    "\n",
    "# Extract sorted words based on frequency\n",
    "sorted_words = [word for word, count in word_count_tuples]\n",
    "\n",
    "print(sorted_words)\n",
    "\n"
   ]
  },
  {
   "cell_type": "code",
   "execution_count": 5,
   "metadata": {},
   "outputs": [
    {
     "name": "stdout",
     "output_type": "stream",
     "text": [
      "['table', 'chair']\n"
     ]
    }
   ],
   "source": [
    "#Cách 2:\n",
    "\n",
    "import numpy as np\n",
    "list_text = ['table', 'table', 'table', 'table', 'table', 'table', 'table', 'table', 'table', 'table', 'chair', 'chair', 'chair', 'chair', 'chair', 'chair', 'chair', 'chair', 'chair']\n",
    "\n",
    "unique_text = list(np.unique(list_text))\n",
    "\n",
    "dict_text = {}\n",
    "\n",
    "for i in unique_text:\n",
    "    dict_text[i] = 0\n",
    "    \n",
    "for key, value in dict_text.items():\n",
    "    count = 0\n",
    "    for word in list_text:\n",
    "        if key == word:\n",
    "            count += 1\n",
    "    dict_text[key] = count\n",
    "\n",
    "sorted= list(sorted(dict_text.items(), key=lambda item: item[1], reverse=True))\n",
    "# Extract sorted words based on frequency\n",
    "sorted_words = [word for word, count in sorted]\n",
    "print(sorted_words)"
   ]
  }
 ],
 "metadata": {
  "kernelspec": {
   "display_name": "cuda",
   "language": "python",
   "name": "python3"
  },
  "language_info": {
   "codemirror_mode": {
    "name": "ipython",
    "version": 3
   },
   "file_extension": ".py",
   "mimetype": "text/x-python",
   "name": "python",
   "nbconvert_exporter": "python",
   "pygments_lexer": "ipython3",
   "version": "3.9.18"
  }
 },
 "nbformat": 4,
 "nbformat_minor": 2
}

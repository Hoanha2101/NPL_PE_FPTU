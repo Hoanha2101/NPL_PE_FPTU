{
 "cells": [
  {
   "cell_type": "markdown",
   "metadata": {},
   "source": [
    "## Question 1\n",
    "\n",
    "<image src = \"img\\1_5\\1.png\">"
   ]
  },
  {
   "cell_type": "code",
   "execution_count": 1,
   "metadata": {},
   "outputs": [
    {
     "name": "stdout",
     "output_type": "stream",
     "text": [
      "['pendulum', 'petunias', 'pelorism']\n",
      "['begonia', 'hostas']\n"
     ]
    }
   ],
   "source": [
    "import re\n",
    "flowers = ['carnation', 'pendulum', 'petunias', 'begonia', 'receptacle', 'hostas', 'pelorism', 'paperwhite']\n",
    "\n",
    "def EX1_A(flowers):\n",
    "    A = []\n",
    "    for flo in flowers:\n",
    "        if re.search(r\"\\bpe\", flo):\n",
    "            A.append(flo)\n",
    "    return A\n",
    "\n",
    "def EX1_B(flowers):\n",
    "    B = []\n",
    "    for flo in flowers:\n",
    "        if len(flo) < 8:\n",
    "            B.append(flo)\n",
    "    return B\n",
    "\n",
    "print(EX1_A(flowers))\n",
    "print(EX1_B(flowers))\n"
   ]
  },
  {
   "cell_type": "markdown",
   "metadata": {},
   "source": [
    "## Question 2\n",
    "<image src = \"img\\1_5\\2.png\">"
   ]
  },
  {
   "cell_type": "code",
   "execution_count": 5,
   "metadata": {},
   "outputs": [
    {
     "name": "stdout",
     "output_type": "stream",
     "text": [
      "['with', 'equanimity']\n"
     ]
    }
   ],
   "source": [
    "import re\n",
    "text = 'She received the news of the discovery with equanimity'\n",
    "\n",
    "# Split the text into words\n",
    "words = text.split()\n",
    "\n",
    "# Extract the last two words using list slicing\n",
    "last_two_words = words[-2:]\n",
    "\n",
    "print(last_two_words)"
   ]
  },
  {
   "cell_type": "markdown",
   "metadata": {},
   "source": [
    "## Question 3\n",
    "\n",
    "<image src = \"img\\1_5\\3.png\">"
   ]
  },
  {
   "cell_type": "code",
   "execution_count": 8,
   "metadata": {},
   "outputs": [
    {
     "name": "stdout",
     "output_type": "stream",
     "text": [
      "['contact@fpt.edu.vn', 'feedback@fpt.edu.vn']\n"
     ]
    }
   ],
   "source": [
    "import re\n",
    "\n",
    "text = 'Please contact us at contact@fpt.edu.vn for further information. You can also give feedback at feedback@fpt.edu.vn'\n",
    "\n",
    "email_pattern = r'[a-zA-Z0-9._%+-]+@[a-zA-Z0-9.-]+\\.[a-zA-Z]{2,}'\n",
    "\n",
    "email_addresses = re.findall(email_pattern, text)\n",
    "\n",
    "print(email_addresses)"
   ]
  },
  {
   "cell_type": "markdown",
   "metadata": {},
   "source": [
    "## Question 4\n",
    "\n",
    "<image src = \"img\\1_5\\4.png\">"
   ]
  },
  {
   "cell_type": "code",
   "execution_count": 15,
   "metadata": {},
   "outputs": [
    {
     "name": "stdout",
     "output_type": "stream",
     "text": [
      "['table', 'chair']\n"
     ]
    }
   ],
   "source": [
    "import numpy as np\n",
    "list_text = ['table', 'table', 'table', 'table', 'table', 'table', 'table', 'table', 'table', 'table', 'chair', 'chair', 'chair', 'chair', 'chair', 'chair', 'chair', 'chair', 'chair']\n",
    "\n",
    "unique_text = list(np.unique(list_text))\n",
    "\n",
    "count_unique_text = []\n",
    "\n",
    "for u_text in unique_text:\n",
    "    count = 0\n",
    "    for i in list_text:\n",
    "        if i == u_text:\n",
    "            count += 1\n",
    "    count_unique_text.append(count)\n",
    "    \n",
    "# Create a list of (word, count) tuples\n",
    "word_count_tuples = list(zip(unique_text, count_unique_text))\n",
    "\n",
    "# Sort tuples by count in descending order\n",
    "word_count_tuples.sort(key=lambda x: x[1], reverse=True)\n",
    "\n",
    "# Extract sorted words based on frequency\n",
    "sorted_words = [word for word, count in word_count_tuples]\n",
    "\n",
    "print(sorted_words)\n"
   ]
  }
 ],
 "metadata": {
  "kernelspec": {
   "display_name": "cuda",
   "language": "python",
   "name": "python3"
  },
  "language_info": {
   "codemirror_mode": {
    "name": "ipython",
    "version": 3
   },
   "file_extension": ".py",
   "mimetype": "text/x-python",
   "name": "python",
   "nbconvert_exporter": "python",
   "pygments_lexer": "ipython3",
   "version": "3.9.18"
  }
 },
 "nbformat": 4,
 "nbformat_minor": 2
}

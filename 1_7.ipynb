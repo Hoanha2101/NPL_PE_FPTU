{
 "cells": [
  {
   "cell_type": "markdown",
   "metadata": {},
   "source": [
    "## Question 1\n",
    "\n",
    "<image src = \"img\\1_7\\1.png\">"
   ]
  },
  {
   "cell_type": "markdown",
   "metadata": {},
   "source": [
    "Tập hợp tất cả các chuỗi chữ cái thường bắt đầu bằng chữ \"a\", chẳng hạn như \"apple\":\n",
    "\n",
    "A) ^a[a-z]*$\n",
    "\n",
    "Giải thích:\n",
    "\n",
    "+ ^ xác nhận vị trí ở đầu chuỗi.\n",
    "+ a khớp với ký tự 'a'.\n",
    "+ [a-z]* khớp với không hoặc nhiều ký tự chữ cái thường.\n",
    "+ $ xác nhận vị trí ở cuối chuỗi.\n",
    "\n",
    "\n",
    "Tất cả các chuỗi bắt đầu từ đầu dòng với một từ và kết thúc ở cuối dòng với một số nguyên:\n",
    "\n",
    "B) ^\\w+.*\\d+$\n",
    "\n",
    "Giải thích:\n",
    "\n",
    "+ ^ xác nhận vị trí ở đầu chuỗi.\n",
    "+ \\w+ khớp với một hoặc nhiều ký tự từ (chữ cái, chữ số và dấu gạch dưới).\n",
    "+ .* khớp với không hoặc nhiều ký tự bất kỳ (ngoại trừ ký tự xuống dòng).\n",
    "+ \\d+ khớp với một hoặc nhiều chữ số.\n",
    "+ $ xác nhận vị trí ở cuối chuỗi."
   ]
  },
  {
   "cell_type": "markdown",
   "metadata": {},
   "source": [
    "## Question 2\n",
    "\n",
    "<image src = \"img\\1_7\\2.png\">"
   ]
  },
  {
   "cell_type": "code",
   "execution_count": 1,
   "metadata": {},
   "outputs": [
    {
     "name": "stdout",
     "output_type": "stream",
     "text": [
      "['Reset', 'your', 'password', 'if', 'you', 'just', 'can', \"'\", 't', 'remember', 'your', 'old', 'one', '.']\n"
     ]
    },
    {
     "name": "stderr",
     "output_type": "stream",
     "text": [
      "[nltk_data] Downloading package punkt to\n",
      "[nltk_data]     C:\\Users\\Admin\\AppData\\Roaming\\nltk_data...\n",
      "[nltk_data]   Package punkt is already up-to-date!\n"
     ]
    }
   ],
   "source": [
    "import nltk\n",
    "from nltk.tokenize import word_tokenize, RegexpTokenizer\n",
    "\n",
    "# Make sure to download the necessary NLTK data files\n",
    "nltk.download('punkt')\n",
    "\n",
    "# Input text\n",
    "text = \"Reset your password if you just can't remember your old one.\"\n",
    "\n",
    "# Tokenizer that separates punctuation\n",
    "tokenizer = RegexpTokenizer(r'\\w+|[^\\w\\s]')\n",
    "\n",
    "# Tokenize the text\n",
    "tokens = tokenizer.tokenize(text)\n",
    "\n",
    "print(tokens)\n"
   ]
  },
  {
   "cell_type": "markdown",
   "metadata": {},
   "source": [
    "## Question 3\n",
    "\n",
    "<image src = \"img\\1_7\\3.png\">"
   ]
  },
  {
   "cell_type": "code",
   "execution_count": 2,
   "metadata": {},
   "outputs": [
    {
     "data": {
      "text/plain": [
       "'c'"
      ]
     },
     "execution_count": 2,
     "metadata": {},
     "output_type": "execute_result"
    }
   ],
   "source": [
    "import string\n",
    "import numpy as np\n",
    "\n",
    "punc = string.punctuation\n",
    "text = 'xin chao viet nam, chao cac ban'\n",
    "\n",
    "def most_char(text):\n",
    "    list_text = []\n",
    "    text_list = text.split()\n",
    "    for i in text_list:\n",
    "        list_text.append(i[0])\n",
    "    list_unique = list(np.unique(list_text))\n",
    "    \n",
    "    COUNT = []\n",
    "\n",
    "    for i in range(len(list_unique)):\n",
    "        count = 0\n",
    "        for char in text:\n",
    "            if list_unique[i] == char:\n",
    "                count += 1 \n",
    "        COUNT.append(count)\n",
    "    return list_unique[COUNT.index(max(COUNT))]\n",
    "\n",
    "most_char(text)"
   ]
  },
  {
   "cell_type": "markdown",
   "metadata": {},
   "source": [
    "## Question 4\n",
    "\n",
    "<image src = \"img\\1_7\\4.png\">"
   ]
  },
  {
   "cell_type": "code",
   "execution_count": 3,
   "metadata": {},
   "outputs": [
    {
     "data": {
      "text/plain": [
       "28.57142857142857"
      ]
     },
     "execution_count": 3,
     "metadata": {},
     "output_type": "execute_result"
    }
   ],
   "source": [
    "text = 'xin chao viet nam, chao cac ban'\n",
    "\n",
    "def percent_containing_string(words, substring):\n",
    "    \n",
    "    count = 0\n",
    "    \n",
    "    tokens = words.split()\n",
    "\n",
    "    for tk in tokens:\n",
    "        if substring in tk:\n",
    "            count += 1\n",
    "    \n",
    "    return 100*(count/len(tokens))\n",
    "\n",
    "percent_containing_string(text, \"ao\")"
   ]
  }
 ],
 "metadata": {
  "kernelspec": {
   "display_name": "cuda",
   "language": "python",
   "name": "python3"
  },
  "language_info": {
   "codemirror_mode": {
    "name": "ipython",
    "version": 3
   },
   "file_extension": ".py",
   "mimetype": "text/x-python",
   "name": "python",
   "nbconvert_exporter": "python",
   "pygments_lexer": "ipython3",
   "version": "3.9.18"
  }
 },
 "nbformat": 4,
 "nbformat_minor": 2
}

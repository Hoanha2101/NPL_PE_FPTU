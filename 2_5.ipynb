{
 "cells": [
  {
   "cell_type": "markdown",
   "metadata": {},
   "source": [
    "## Question 1\n",
    "\n",
    "<image src = \"img\\2_5\\1.png\">"
   ]
  },
  {
   "cell_type": "markdown",
   "metadata": {},
   "source": [
    "Để khớp tất cả các chuỗi chữ cái thường bắt đầu bằng chữ 'p', bạn có thể sử dụng biểu thức chính quy sau:\n",
    "\n",
    "^p[a-z]*$\n",
    "\n",
    "Giải thích:\n",
    "\n",
    "+ ^ xác định vị trí ở đầu chuỗi.\n",
    "+ p khớp với ký tự 'p'.\n",
    "+ [a-z]* khớp với không hoặc nhiều ký tự chữ cái thường.\n",
    "+ $ xác định vị trí ở cuối chuỗi.\n",
    "\n",
    "\n",
    "\n",
    "Để khớp các chuỗi bắt đầu bằng một từ ở đầu dòng và kết thúc bằng một số nguyên ở cuối dòng, bạn có thể sử dụng biểu thức chính quy sau:\n",
    "\n",
    "^\\w+\\b.*\\b\\d+$\n",
    "\n",
    "Giải thích:\n",
    "\n",
    "+ ^ xác định vị trí ở đầu chuỗi.\n",
    "+ \\w+ khớp với một hoặc nhiều ký tự từ (tương đương với [a-zA-Z0-9_]).\n",
    "+ \\b là ranh giới từ.\n",
    "+ .* khớp với bất kỳ ký tự nào (trừ dấu kết thúc dòng) không hoặc nhiều lần.\n",
    "+ \\b là ranh giới từ.\n",
    "+ \\d+ khớp với một hoặc nhiều chữ số.\n",
    "+ $ xác định vị trí ở cuối chuỗi."
   ]
  },
  {
   "cell_type": "markdown",
   "metadata": {},
   "source": [
    "## Question 2\n",
    "\n",
    "<image src = \"img\\2_5\\2.png\">"
   ]
  },
  {
   "cell_type": "code",
   "execution_count": 8,
   "metadata": {},
   "outputs": [
    {
     "name": "stdout",
     "output_type": "stream",
     "text": [
      "ban: 1\n",
      "cac: 1\n",
      "chao: 2\n",
      "nam: 1\n",
      "viet: 1\n",
      "xin: 1\n"
     ]
    }
   ],
   "source": [
    "import string\n",
    "import numpy as np\n",
    "\n",
    "punc = string.punctuation\n",
    "\n",
    "def remove_punc(text):\n",
    "    for char in punc:\n",
    "        text = text.replace(char,\"\")\n",
    "    \n",
    "    return text\n",
    "\n",
    "text = 'xin chao viet nam, chao cac ban'\n",
    "\n",
    "text_processing = remove_punc(text)\n",
    "text_processing_list = text_processing.split()\n",
    "\n",
    "unique_word = list(np.unique(text_processing_list))\n",
    "unique_word.sort()\n",
    "\n",
    "count_dict = {}\n",
    "\n",
    "for i in unique_word:\n",
    "    count_dict[i] = 0\n",
    "    for word in text_processing_list:\n",
    "        if word == i:\n",
    "            count_dict[i] = count_dict[i] + 1\n",
    "for key, value in count_dict.items():\n",
    "    print(f\"{key}: {value}\")"
   ]
  },
  {
   "cell_type": "markdown",
   "metadata": {},
   "source": [
    "## Question 3\n",
    "\n",
    "<image src = \"img\\2_5\\3.png\">"
   ]
  },
  {
   "cell_type": "code",
   "execution_count": 11,
   "metadata": {},
   "outputs": [
    {
     "data": {
      "text/plain": [
       "'c'"
      ]
     },
     "execution_count": 11,
     "metadata": {},
     "output_type": "execute_result"
    }
   ],
   "source": [
    "import string\n",
    "import numpy as np\n",
    "\n",
    "punc = string.punctuation\n",
    "text = 'xin chao viet nam, chao cac ban'\n",
    "\n",
    "def most_char(text):\n",
    "    list_text = []\n",
    "    text_list = text.split()\n",
    "    for i in text_list:\n",
    "        list_text.append(i[0])\n",
    "    list_unique = list(np.unique(list_text))\n",
    "    \n",
    "    COUNT = []\n",
    "\n",
    "    for i in range(len(list_unique)):\n",
    "        count = 0\n",
    "        for char in text:\n",
    "            if list_unique[i] == char:\n",
    "                count += 1 \n",
    "        COUNT.append(count)\n",
    "    return list_unique[COUNT.index(max(COUNT))]\n",
    "\n",
    "most_char(text)"
   ]
  },
  {
   "cell_type": "code",
   "execution_count": 10,
   "metadata": {},
   "outputs": [
    {
     "name": "stdout",
     "output_type": "stream",
     "text": [
      "c\n"
     ]
    }
   ],
   "source": [
    "from collections import Counter\n",
    "\n",
    "def most_common_starting_char(sentence):\n",
    "    # Split the sentence into words\n",
    "    words = sentence.split()\n",
    "    \n",
    "    # Extract the first character of each word\n",
    "    starting_chars = [word[0].lower() for word in words]\n",
    "    \n",
    "    # Count the frequency of each starting character\n",
    "    char_count = Counter(starting_chars)\n",
    "    \n",
    "    # Find the character with the highest frequency\n",
    "    most_common_char = char_count.most_common(1)[0][0]\n",
    "    \n",
    "    return most_common_char\n",
    "\n",
    "# Example usage\n",
    "input_sentence = 'xin chao viet nam, chao cac ban'\n",
    "output_char = most_common_starting_char(input_sentence)\n",
    "print(output_char)  # Output: c\n"
   ]
  },
  {
   "cell_type": "markdown",
   "metadata": {},
   "source": [
    "## Question 4\n",
    "\n",
    "<image src = \"img\\2_5\\4.png\">"
   ]
  },
  {
   "cell_type": "code",
   "execution_count": 12,
   "metadata": {},
   "outputs": [
    {
     "data": {
      "text/plain": [
       "14.285714285714285"
      ]
     },
     "execution_count": 12,
     "metadata": {},
     "output_type": "execute_result"
    }
   ],
   "source": [
    "text = 'xin chao viet nam, chao cac ban'\n",
    "\n",
    "def percent_containing_string(words, substring):\n",
    "    \n",
    "    count = 0\n",
    "    \n",
    "    tokens = words.split()\n",
    "    \n",
    "    for tk in tokens:\n",
    "        if substring in tk:\n",
    "            count += 1\n",
    "    \n",
    "    return 100*(count/len(tokens))\n",
    "\n",
    "percent_containing_string(text, \"am\")"
   ]
  }
 ],
 "metadata": {
  "kernelspec": {
   "display_name": "cuda",
   "language": "python",
   "name": "python3"
  },
  "language_info": {
   "codemirror_mode": {
    "name": "ipython",
    "version": 3
   },
   "file_extension": ".py",
   "mimetype": "text/x-python",
   "name": "python",
   "nbconvert_exporter": "python",
   "pygments_lexer": "ipython3",
   "version": "3.9.18"
  }
 },
 "nbformat": 4,
 "nbformat_minor": 2
}

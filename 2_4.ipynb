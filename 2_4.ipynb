{
 "cells": [
  {
   "cell_type": "markdown",
   "metadata": {},
   "source": [
    "## Question 1\n",
    "\n",
    "<image src = \"img\\2_4\\1.png\">"
   ]
  },
  {
   "cell_type": "markdown",
   "metadata": {},
   "source": [
    "A) Chuỗi chữ cái viết thường bắt đầu bằng chữ 'b':\n",
    "\n",
    "\\bb[a-z]*\\b\n",
    "\n",
    "Giải thích:\n",
    "\n",
    "+ \\b: Ranh giới từ để đảm bảo chuỗi bắt đầu bằng một từ.\n",
    "+ b: Chuỗi phải bắt đầu bằng chữ cái 'b'.\n",
    "+ [a-z]*: Khớp với bất kỳ chữ cái viết thường nào (không hoặc nhiều hơn) theo sau chữ 'b'.\n",
    "+ \\b: Ranh giới từ để đảm bảo chuỗi kết thúc sau các chữ cái.\n",
    "\n",
    "B) Chuỗi có ba từ lặp lại liên tiếp:\n",
    "\n",
    "\\b(\\w+)\\s+\\1\\s+\\1\\b\n",
    "\n",
    "Giải thích:\n",
    "\n",
    "+ \\b: Ranh giới từ để đảm bảo khớp tại đầu một từ.\n",
    "+ (\\w+): Khớp với một hoặc nhiều ký tự từ (bắt giữ từ trong một nhóm).\n",
    "+ \\s+: Khớp với một hoặc nhiều ký tự khoảng trắng.\n",
    "+ \\1: Khớp với từ giống như từ đã bắt giữ trong nhóm đầu tiên.\n",
    "+ \\s+: Khớp với một hoặc nhiều ký tự khoảng trắng.\n",
    "+ \\1: Khớp với từ giống như từ đã bắt giữ trong nhóm đầu tiên một lần nữa.\n",
    "+ \\b: Ranh giới từ để đảm bảo khớp tại cuối từ lặp lại cuối cùng."
   ]
  },
  {
   "cell_type": "markdown",
   "metadata": {},
   "source": [
    "## Question 2\n",
    "\n",
    "<image src = \"img\\2_4\\2.png\">"
   ]
  },
  {
   "cell_type": "code",
   "execution_count": 14,
   "metadata": {},
   "outputs": [
    {
     "data": {
      "text/plain": [
       "'The match has concluded Vietnam has won the match Will we fin the finals too'"
      ]
     },
     "execution_count": 14,
     "metadata": {},
     "output_type": "execute_result"
    }
   ],
   "source": [
    "# cách 1\n",
    "import string\n",
    "\n",
    "punc = string.punctuation\n",
    "\n",
    "text=\"The match has concluded !!! Vietnam has won the match. Will we fin the finals too?!\"\n",
    "index_remove = []\n",
    "\n",
    "for char in punc:\n",
    "    text = text.replace(char,\"\")\n",
    "    \n",
    "text_list = [i for i in text.split() if i != \" \"]\n",
    "\n",
    "text = \" \".join(text_list)\n",
    "\n",
    "text"
   ]
  },
  {
   "cell_type": "code",
   "execution_count": 18,
   "metadata": {},
   "outputs": [
    {
     "data": {
      "text/plain": [
       "'The match has concluded Vietnam has won the match Will we fin the finals too'"
      ]
     },
     "execution_count": 18,
     "metadata": {},
     "output_type": "execute_result"
    }
   ],
   "source": [
    "# cách 2\n",
    "import string\n",
    "\n",
    "text = \"The match has concluded !!! Vietnam has won the match. Will we fin the finals too?!\"\n",
    "\n",
    "# Create a translation table that maps punctuation characters to None\n",
    "translator = str.maketrans('', '', string.punctuation)\n",
    "\n",
    "# Use the translate method to remove punctuation\n",
    "cleaned_text = text.translate(translator)\n",
    "\n",
    "text_list = [i for i in cleaned_text.split() if i != \" \"]\n",
    "\n",
    "text = \" \".join(text_list)\n",
    "\n",
    "text"
   ]
  },
  {
   "cell_type": "markdown",
   "metadata": {},
   "source": [
    "## Question 3\n",
    "\n",
    "<image src = \"img\\2_4\\3.png\">"
   ]
  },
  {
   "cell_type": "code",
   "execution_count": 19,
   "metadata": {},
   "outputs": [
    {
     "data": {
      "text/plain": [
       "['Stge', 'woen', 'lyng', 'pods', 'ding', 'swds', 'bais', 'syem', 'gont']"
      ]
     },
     "execution_count": 19,
     "metadata": {},
     "output_type": "execute_result"
    }
   ],
   "source": [
    "input = ['Strange', 'women', 'lying', 'in', 'ponds', 'distributing', 'swords', 'is', 'no', 'basis', 'for', 'a', 'system', 'of', 'government', '.']\n",
    "\n",
    "def concatenates(input):\n",
    "    concat_list = []\n",
    "    \n",
    "    for word in input:\n",
    "        if len(word) >= 4:\n",
    "            concat_list.append(word[:2] + word[-2:])\n",
    "            \n",
    "    return concat_list\n",
    "\n",
    "concatenates(input)          "
   ]
  },
  {
   "cell_type": "markdown",
   "metadata": {},
   "source": [
    "## Question 4\n",
    "\n",
    "<image src = \"img\\2_4\\4.png\">"
   ]
  },
  {
   "cell_type": "code",
   "execution_count": 24,
   "metadata": {},
   "outputs": [
    {
     "data": {
      "text/plain": [
       "'Stralangele wolomelen lylyiling ilin polonds dilistrilibulutiling swolords ilis nolo balasilis folor ala sylystelem olof golovelernmelent.'"
      ]
     },
     "execution_count": 24,
     "metadata": {},
     "output_type": "execute_result"
    }
   ],
   "source": [
    "text = \"Strange women lying in ponds distributing swords is no basis for a system of government.\"\n",
    "\n",
    "vowel = \"aeiouy\"\n",
    "\n",
    "def double_insert(text):\n",
    "    new_list = []\n",
    "    text_list = text.split()\n",
    "    for word in text_list:\n",
    "        word_list = []\n",
    "        for char in word:\n",
    "            if char in vowel:\n",
    "               word_list.extend([char, \"l\", char])\n",
    "            else:\n",
    "                word_list.append(char)\n",
    "        new_list.append(\"\".join(word_list))\n",
    "    return \" \".join(new_list)\n",
    "        \n",
    "double_insert(text)"
   ]
  }
 ],
 "metadata": {
  "kernelspec": {
   "display_name": "cuda",
   "language": "python",
   "name": "python3"
  },
  "language_info": {
   "codemirror_mode": {
    "name": "ipython",
    "version": 3
   },
   "file_extension": ".py",
   "mimetype": "text/x-python",
   "name": "python",
   "nbconvert_exporter": "python",
   "pygments_lexer": "ipython3",
   "version": "3.9.18"
  }
 },
 "nbformat": 4,
 "nbformat_minor": 2
}

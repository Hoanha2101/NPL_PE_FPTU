{
 "cells": [
  {
   "cell_type": "markdown",
   "metadata": {},
   "source": [
    "<image src = \"img/SM22_PE_1b/1.png\">"
   ]
  },
  {
   "cell_type": "code",
   "execution_count": null,
   "metadata": {},
   "outputs": [],
   "source": [
    "import nltk\n",
    "\n",
    "# Define 's' as a text\n",
    "s = input(\"Enter the text: \")\n",
    "\n",
    "# Tokenize the text into words\n",
    "words = nltk.word_tokenize(s)\n",
    "\n",
    "# Find words containing the sequence 'pt'\n",
    "result = [word for word in words if 'pt' in word]\n",
    "\n",
    "# Print the result\n",
    "print(result)"
   ]
  },
  {
   "cell_type": "markdown",
   "metadata": {},
   "source": [
    "<image src = \"img/SM22_PE_1b/2.png\">"
   ]
  },
  {
   "cell_type": "code",
   "execution_count": null,
   "metadata": {},
   "outputs": [],
   "source": [
    "import nltk\n",
    "\n",
    "\n",
    "def percent(word, text):\n",
    "    # Tokenize the text into words\n",
    "    words = nltk.word_tokenize(text)\n",
    "\n",
    "    # Count the occurrences of the given word\n",
    "    word_count = sum(1 for w in words if w.lower() == word.lower())\n",
    "\n",
    "    # Calculate the percentage\n",
    "    percentage = (word_count / len(words)) * 100\n",
    "\n",
    "    return percentage\n",
    "\n",
    "\n",
    "# Example usage\n",
    "text = input(\"Enter the text: \")\n",
    "word = input(\"Enter the word: \")\n",
    "result = percent(word, text)\n",
    "\n",
    "print(f\"The word '{word}' occurs {result:.2f}% of the time in the given text.\")"
   ]
  },
  {
   "cell_type": "markdown",
   "metadata": {},
   "source": [
    "<image src = \"img/SM22_PE_1b/3.png\">"
   ]
  },
  {
   "cell_type": "code",
   "execution_count": 2,
   "metadata": {},
   "outputs": [
    {
     "name": "stdout",
     "output_type": "stream",
     "text": [
      "['Joe waited for the train.', 'The train was late.', 'Mary and Samantha took the bus.', 'I looked for Mary and Samantha at the bus station.']\n"
     ]
    }
   ],
   "source": [
    "import nltk\n",
    "\n",
    "\n",
    "def split_text(text):\n",
    "    # Tokenize the text into sentences\n",
    "    sentences = nltk.sent_tokenize(text)\n",
    "\n",
    "    # Return the sentence-tokenized copy in a list\n",
    "    return sentences\n",
    "\n",
    "\n",
    "# Example usage\n",
    "text = \"Joe waited for the train. The train was late. Mary and Samantha took the bus. I looked for Mary and Samantha at the bus station.\"\n",
    "\n",
    "# Split the text into sentences\n",
    "sentence_list = split_text(text)\n",
    "\n",
    "# Print the original string\n",
    "print(sentence_list)"
   ]
  },
  {
   "cell_type": "markdown",
   "metadata": {},
   "source": [
    "<image src = \"img/SM22_PE_1b/4.png\">"
   ]
  },
  {
   "cell_type": "code",
   "execution_count": 3,
   "metadata": {},
   "outputs": [
    {
     "name": "stdout",
     "output_type": "stream",
     "text": [
      "may bake\n",
      "will introduce\n"
     ]
    }
   ],
   "source": [
    "import nltk\n",
    "from nltk import pos_tag, ne_chunk\n",
    "from nltk.tokenize import word_tokenize\n",
    "from nltk.chunk import tree2conlltags\n",
    "\n",
    "text = \"I may bake a cake for my birthday. The talk will introduce reader about Use of baking\"\n",
    "tokens = word_tokenize(text)\n",
    "\n",
    "tagged_words = pos_tag(tokens)\n",
    "grammar = \"VP: {<MD><VB>}\"\n",
    "vp_parser = nltk.RegexpParser(grammar)\n",
    "tree = vp_parser.parse(tagged_words)\n",
    "\n",
    "verb_phrases = []\n",
    "for subtree in tree.subtrees():\n",
    "    if subtree.label() == 'VP':\n",
    "        verb_phrase = ' '.join(word for word, tag in subtree.leaves())\n",
    "        verb_phrases.append(verb_phrase)\n",
    "for verb_phrase in verb_phrases:\n",
    "    print(verb_phrase)\n",
    "    \n",
    "\"\"\"may bake\n",
    "will introduce\"\"\""
   ]
  }
 ],
 "metadata": {
  "kernelspec": {
   "display_name": "cuda",
   "language": "python",
   "name": "python3"
  },
  "language_info": {
   "codemirror_mode": {
    "name": "ipython",
    "version": 3
   },
   "file_extension": ".py",
   "mimetype": "text/x-python",
   "name": "python",
   "nbconvert_exporter": "python",
   "pygments_lexer": "ipython3",
   "version": "3.9.18"
  }
 },
 "nbformat": 4,
 "nbformat_minor": 2
}
